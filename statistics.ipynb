{
  "nbformat": 4,
  "nbformat_minor": 0,
  "metadata": {
    "colab": {
      "name": "statistics.ipynb",
      "provenance": [],
      "include_colab_link": true
    },
    "kernelspec": {
      "name": "python3",
      "display_name": "Python 3"
    }
  },
  "cells": [
    {
      "cell_type": "markdown",
      "metadata": {
        "id": "view-in-github",
        "colab_type": "text"
      },
      "source": [
        "<a href=\"https://colab.research.google.com/github/thefr33radical/courses_fall19/blob/master/statistics.ipynb\" target=\"_parent\"><img src=\"https://colab.research.google.com/assets/colab-badge.svg\" alt=\"Open In Colab\"/></a>"
      ]
    },
    {
      "cell_type": "code",
      "metadata": {
        "id": "rTuDqhjseTV7",
        "colab_type": "code",
        "colab": {
          "base_uri": "https://localhost:8080/",
          "height": 283
        },
        "outputId": "b3ca7180-6462-4136-8b85-1b8c68438910"
      },
      "source": [
        "# Import numpy\n",
        "import numpy as np\n",
        "from sklearn.datasets import load_iris\n",
        "import matplotlib.pyplot as plt\n",
        "\n",
        "data=load_iris()\n",
        "\n",
        "# Compute number of data points: n_data\n",
        "n_data = len(list(data.target_names))\n",
        "\n",
        "# Number of bins is the square root of number of data points: n_bins\n",
        "n_bins = np.sqrt(n_data)\n",
        "\n",
        "# Convert number of bins to integer: n_bins\n",
        "n_bins = int(n_bins)\n",
        "\n",
        "# Plot the histogram\n",
        "_ = plt.hist(data.data, bins=n_bins)\n",
        "\n",
        "# Label axes\n",
        "_ = plt.xlabel('petal length (cm)')\n",
        "_ = plt.ylabel('count')\n",
        "\n",
        "# Show histogram\n",
        "plt.show()"
      ],
      "execution_count": 8,
      "outputs": [
        {
          "output_type": "display_data",
          "data": {
            "image/png": "[encoded data removed]",
            "text/plain": [
              "<Figure size 432x288 with 1 Axes>"
            ]
          },
          "metadata": {
            "tags": []
          }
        }
      ]
    }
  ]
}